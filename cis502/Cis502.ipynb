{
 "cells": [
  {
   "cell_type": "code",
   "execution_count": 1,
   "id": "healthy-costume",
   "metadata": {},
   "outputs": [
    {
     "data": {
      "text/plain": [
       "'\\nimport re\\n\\ndate1 = input(\"Enter a date string (Format MM/DD/YYYY) >\")\\nconvertDate(date1)\\ndef convertDate(strDate):\\n\\ts = strDate\\n\\tdateMappings = {\"January\": 31, \"March\": 31, \"April\": 30, \"May\": 31, \"June\": 30, \"July\": 31, \"August\":31, \"September\": 30, \"October\": 31,\"November\": 30, \"December\": 31}\\n\\tdates = [\"January\",\"Feburary\",\"March\",\"April\",\"May\",\"June\",\"July\",\"August\",\"September\",\"October\",\"November\",\"December\"]\\n\\ttry:\\n\\t\\tif(re.match(r\"[0-9]{2}/[0-9]{2}/[0-9]{4}\",s)==None):\\n\\t\\t\\traise SystemExit\\n\\t\\tm,d,y = tuple(s.split(\"/\"))\\n\\t\\td,m,y=int(d),int(m),int(y)\\n\\t\\tif(1000 > y or y > 2999 or 1 > m or m > 12):raise SystemExit\\n\\t\\tleapYear = y % 4 == 0\\n\\t\\tmWord = dates[m-1]\\n\\t\\tif(m == 2):\\n\\t\\t\\tif(leapYear == True):\\n\\t\\t\\t\\tmaxDay = 29\\n\\t\\t\\telse:\\n\\t\\t\\t\\tmaxDay = 28\\n\\t\\telse:\\n\\t\\t\\tmaxDay = dateMappings[mWord]\\n\\t\\tif(1 > d or d > maxDay):\\n\\t\\t\\traise SystemExit\\n\\t\\telse:\\n\\t\\t\\tprint(\"Converted Date: {} {}, {}\".format(mWord,d,y))\\n\\texcept Exception:\\n\\t\\traise SystemExit\\n'"
      ]
     },
     "execution_count": 1,
     "metadata": {},
     "output_type": "execute_result"
    }
   ],
   "source": [
    "\"\"\"\n",
    "import re\n",
    "\n",
    "date1 = input(\"Enter a date string (Format MM/DD/YYYY) >\")\n",
    "convertDate(date1)\n",
    "def convertDate(strDate):\n",
    "\ts = strDate\n",
    "\tdateMappings = {\"January\": 31, \"March\": 31, \"April\": 30, \"May\": 31, \"June\": 30, \"July\": 31, \"August\":31, \"September\": 30, \"October\": 31,\"November\": 30, \"December\": 31}\n",
    "\tdates = [\"January\",\"Feburary\",\"March\",\"April\",\"May\",\"June\",\"July\",\"August\",\"September\",\"October\",\"November\",\"December\"]\n",
    "\ttry:\n",
    "\t\tif(re.match(r\"[0-9]{2}/[0-9]{2}/[0-9]{4}\",s)==None):\n",
    "\t\t\traise SystemExit\n",
    "\t\tm,d,y = tuple(s.split(\"/\"))\n",
    "\t\td,m,y=int(d),int(m),int(y)\n",
    "\t\tif(1000 > y or y > 2999 or 1 > m or m > 12):raise SystemExit\n",
    "\t\tleapYear = y % 4 == 0\n",
    "\t\tmWord = dates[m-1]\n",
    "\t\tif(m == 2):\n",
    "\t\t\tif(leapYear == True):\n",
    "\t\t\t\tmaxDay = 29\n",
    "\t\t\telse:\n",
    "\t\t\t\tmaxDay = 28\n",
    "\t\telse:\n",
    "\t\t\tmaxDay = dateMappings[mWord]\n",
    "\t\tif(1 > d or d > maxDay):\n",
    "\t\t\traise SystemExit\n",
    "\t\telse:\n",
    "\t\t\tprint(\"Converted Date: {} {}, {}\".format(mWord,d,y))\n",
    "\texcept Exception:\n",
    "\t\traise SystemExit\n",
    "\"\"\""
   ]
  },
  {
   "cell_type": "code",
   "execution_count": 2,
   "id": "honest-conjunction",
   "metadata": {},
   "outputs": [],
   "source": [
    "import re"
   ]
  },
  {
   "cell_type": "code",
   "execution_count": 3,
   "id": "commercial-house",
   "metadata": {},
   "outputs": [],
   "source": [
    "def convertDate(strDate):\n",
    "\ts = strDate\n",
    "\tdateMappings = {\"January\": 31, \"March\": 31, \"April\": 30, \"May\": 31, \"June\": 30, \"July\": 31, \"August\":31, \"September\": 30, \"October\": 31,\"November\": 30, \"December\": 31}\n",
    "\tdates = [\"January\",\"Feburary\",\"March\",\"April\",\"May\",\"June\",\"July\",\"August\",\"September\",\"October\",\"November\",\"December\"]\n",
    "\ttry:\n",
    "\t\tif(re.match(r\"[0-9]{2}/[0-9]{2}/[0-9]{4}\",s)==None):\n",
    "\t\t\traise SystemExit\n",
    "\t\tm,d,y = tuple(s.split(\"/\"))\n",
    "\t\td,m,y=int(d),int(m),int(y)\n",
    "\t\tif(1000 > y or y > 2999 or 1 > m or m > 12):raise SystemExit\n",
    "\t\tleapYear = y % 4 == 0\n",
    "\t\tmWord = dates[m-1]\n",
    "\t\tif(m == 2):\n",
    "\t\t\tif(leapYear == True):\n",
    "\t\t\t\tmaxDay = 29\n",
    "\t\t\telse:\n",
    "\t\t\t\tmaxDay = 28\n",
    "\t\telse:\n",
    "\t\t\tmaxDay = dateMappings[mWord]\n",
    "\t\tif(1 > d or d > maxDay):\n",
    "\t\t\traise SystemExit\n",
    "\t\telse:\n",
    "\t\t\tprint(\"Converted Date: {} {}, {}\".format(mWord,d,y))\n",
    "\texcept Exception:\n",
    "\t\traise SystemExit"
   ]
  },
  {
   "cell_type": "code",
   "execution_count": 7,
   "id": "optical-china",
   "metadata": {},
   "outputs": [
    {
     "name": "stdout",
     "output_type": "stream",
     "text": [
      "Enter a date string (Format MM/DD/YYYY) >\n"
     ]
    },
    {
     "ename": "SystemExit",
     "evalue": "",
     "output_type": "error",
     "traceback": [
      "An exception has occurred, use %tb to see the full traceback.\n",
      "\u001b[1;31mSystemExit\u001b[0m\n"
     ]
    }
   ],
   "source": [
    "for i in range(5):\n",
    "    date1 = input(\"Enter a date string (Format MM/DD/YYYY) >\")\n",
    "    convertDate(date1)"
   ]
  },
  {
   "cell_type": "code",
   "execution_count": null,
   "id": "ecological-humanity",
   "metadata": {},
   "outputs": [],
   "source": []
  }
 ],
 "metadata": {
  "kernelspec": {
   "display_name": "Python 3",
   "language": "python",
   "name": "python3"
  },
  "language_info": {
   "codemirror_mode": {
    "name": "ipython",
    "version": 3
   },
   "file_extension": ".py",
   "mimetype": "text/x-python",
   "name": "python",
   "nbconvert_exporter": "python",
   "pygments_lexer": "ipython3",
   "version": "3.9.4"
  }
 },
 "nbformat": 4,
 "nbformat_minor": 5
}
