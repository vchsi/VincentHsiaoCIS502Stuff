{
 "cells": [
  {
   "cell_type": "code",
   "execution_count": 3,
   "id": "alternative-india",
   "metadata": {},
   "outputs": [],
   "source": [
    "##\n",
    "#  Student Name:  Vincent Hsiao\n",
    "#  Course: CIS 502 Applied Python Programming\n",
    "#  Lab # 1 - Up and Running with IPython and Juypter Notebook\n",
    "#  Application: Generating dynamic random bar plots of die rolls.\n",
    "#  Description: This program simulates a dynamic randomized\n",
    "#               roll of dice. \n",
    "#  Testing Validation: Snapshot of program bar plot generated.\n",
    "#  Version: Python 3.7\n",
    "#  Solution File:  vincenthsiaoLab1.py\n",
    "#  Date: 8/28/2021\n",
    "#  Big Data Project of Interest:  COVID Cases Growth\n",
    "\n",
    "\"\"\"Dynamically graphing frequencies of die rolls.\"\"\"\n",
    "from matplotlib import animation\n",
    "import matplotlib.pyplot as plt\n",
    "import random \n",
    "import seaborn as sns\n",
    "import sys"
   ]
  },
  {
   "cell_type": "code",
   "execution_count": 4,
   "id": "sunrise-atlas",
   "metadata": {},
   "outputs": [],
   "source": [
    "\n",
    "\n",
    "def update(frame_number, rolls, faces, frequencies):\n",
    "    \"\"\"Configures bar plot contents for each animation frame.\"\"\"\n",
    "    # roll die and update frequencies\n",
    "    for i in range(rolls):\n",
    "        frequencies[random.randrange(1, 7) - 1] += 1 \n",
    "\n",
    "    # reconfigure plot for updated die frequencies\n",
    "    plt.cla()  # clear old contents contents of current Figure\n",
    "    axes = sns.barplot(faces, frequencies, palette='bright')  # new bars\n",
    "    axes.set_title(f'Die Frequencies for {sum(frequencies):,} Rolls')\n",
    "    axes.set(xlabel='Die Value', ylabel='Frequency')  \n",
    "    axes.set_ylim(top=max(frequencies) * 1.10)  # scale y-axis by 10%\n",
    "\n",
    "    # display frequency & percentage above each patch (bar)\n",
    "    for bar, frequency in zip(axes.patches, frequencies):\n",
    "        text_x = bar.get_x() + bar.get_width() / 2.0  \n",
    "        text_y = bar.get_height() \n",
    "        text = f'{frequency:,}\\n{frequency / sum(frequencies):.3%}'\n",
    "        axes.text(text_x, text_y, text, ha='center', va='bottom')\n",
    "\n"
   ]
  },
  {
   "cell_type": "code",
   "execution_count": 10,
   "id": "associate-century",
   "metadata": {},
   "outputs": [
    {
     "data": {
      "text/plain": [
       "<Figure size 432x288 with 0 Axes>"
      ]
     },
     "metadata": {},
     "output_type": "display_data"
    }
   ],
   "source": [
    "# read command-line arguments for number of frames and rolls per frame\n",
    "#testing#\n",
    "sys.argv[1] = 30\n",
    "sys.argv[2] = 100\n",
    "#########\n",
    "number_of_frames = int(sys.argv[1])  \n",
    "rolls_per_frame = int(sys.argv[2])  \n",
    "\n",
    "sns.set_style('whitegrid')  # white backround with gray grid lines\n",
    "figure = plt.figure('Rolling a Six-Sided Die')  # Figure for animation\n",
    "values = list(range(1, 7))  # die faces for display on x-axis\n",
    "frequencies = [0] * 6  # six-element list of die frequencies\n",
    "\n",
    "# configure and start animation that calls function update\n",
    "die_animation = animation.FuncAnimation(\n",
    "    figure, update, repeat=False, frames=number_of_frames, interval=33,\n",
    "    fargs=(rolls_per_frame, values, frequencies))\n",
    "\n",
    "plt.show()  # display window\n",
    "\n",
    "\n",
    "#**************************************************************************\n",
    "#* (C) Copyright 1992-2018 by Deitel & Associates, Inc. and               *\n",
    "#* Pearson Education, Inc. All Rights Reserved.                           *\n",
    "#*                                                                        *\n",
    "#* DISCLAIMER: The authors and publisher of this book have used their     *\n",
    "#* best efforts in preparing the book. These efforts include the          *\n",
    "#* development, research, and testing of the theories and programs        *\n",
    "#* to determine their effectiveness. The authors and publisher make       *\n",
    "#* no warranty of any kind, expressed or implied, with regard to these    *\n",
    "#* programs or to the documentation contained in these books. The authors *\n",
    "#* and publisher shall not be liable in any event for incidental or       *\n",
    "#* consequential damages in connection with, or arising out of, the       *\n",
    "#* furnishing, performance, or use of these programs.                     *\n",
    "#**************************************************************************\n"
   ]
  },
  {
   "cell_type": "code",
   "execution_count": null,
   "id": "welcome-appreciation",
   "metadata": {},
   "outputs": [],
   "source": []
  }
 ],
 "metadata": {
  "kernelspec": {
   "display_name": "Python 3",
   "language": "python",
   "name": "python3"
  },
  "language_info": {
   "codemirror_mode": {
    "name": "ipython",
    "version": 3
   },
   "file_extension": ".py",
   "mimetype": "text/x-python",
   "name": "python",
   "nbconvert_exporter": "python",
   "pygments_lexer": "ipython3",
   "version": "3.9.4"
  }
 },
 "nbformat": 4,
 "nbformat_minor": 5
}
